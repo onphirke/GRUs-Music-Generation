{
  "nbformat": 4,
  "nbformat_minor": 0,
  "metadata": {
    "accelerator": "GPU",
    "colab": {
      "name": "BETTER music gen using GRUs.ipynb",
      "provenance": [],
      "collapsed_sections": []
    },
    "kernelspec": {
      "display_name": "Python 3",
      "name": "python3"
    },
    "language_info": {
      "name": "python"
    },
    "widgets": {
      "application/vnd.jupyter.widget-state+json": {
        "b915c3cd7dd347209deffabadd2e849b": {
          "model_module": "@jupyter-widgets/controls",
          "model_name": "HBoxModel",
          "model_module_version": "1.5.0",
          "state": {
            "_view_name": "HBoxView",
            "_dom_classes": [],
            "_model_name": "HBoxModel",
            "_view_module": "@jupyter-widgets/controls",
            "_model_module_version": "1.5.0",
            "_view_count": null,
            "_view_module_version": "1.5.0",
            "box_style": "",
            "layout": "IPY_MODEL_ea0d1ca166c04aa7876d021ca3d22bb0",
            "_model_module": "@jupyter-widgets/controls",
            "children": [
              "IPY_MODEL_7da9ac7b704e4c81999b0599679f13cd",
              "IPY_MODEL_47b264bcc2964b30a34076e9a4fffacb",
              "IPY_MODEL_71638a39fd8042eeaf433feede1dd4bd"
            ]
          }
        },
        "ea0d1ca166c04aa7876d021ca3d22bb0": {
          "model_module": "@jupyter-widgets/base",
          "model_name": "LayoutModel",
          "model_module_version": "1.2.0",
          "state": {
            "_view_name": "LayoutView",
            "grid_template_rows": null,
            "right": null,
            "justify_content": null,
            "_view_module": "@jupyter-widgets/base",
            "overflow": null,
            "_model_module_version": "1.2.0",
            "_view_count": null,
            "flex_flow": null,
            "width": null,
            "min_width": null,
            "border": null,
            "align_items": null,
            "bottom": null,
            "_model_module": "@jupyter-widgets/base",
            "top": null,
            "grid_column": null,
            "overflow_y": null,
            "overflow_x": null,
            "grid_auto_flow": null,
            "grid_area": null,
            "grid_template_columns": null,
            "flex": null,
            "_model_name": "LayoutModel",
            "justify_items": null,
            "grid_row": null,
            "max_height": null,
            "align_content": null,
            "visibility": null,
            "align_self": null,
            "height": null,
            "min_height": null,
            "padding": null,
            "grid_auto_rows": null,
            "grid_gap": null,
            "max_width": null,
            "order": null,
            "_view_module_version": "1.2.0",
            "grid_template_areas": null,
            "object_position": null,
            "object_fit": null,
            "grid_auto_columns": null,
            "margin": null,
            "display": null,
            "left": null
          }
        },
        "7da9ac7b704e4c81999b0599679f13cd": {
          "model_module": "@jupyter-widgets/controls",
          "model_name": "HTMLModel",
          "model_module_version": "1.5.0",
          "state": {
            "_view_name": "HTMLView",
            "style": "IPY_MODEL_b863554bf08440ddb1b6d1b3c075a6a3",
            "_dom_classes": [],
            "description": "",
            "_model_name": "HTMLModel",
            "placeholder": "​",
            "_view_module": "@jupyter-widgets/controls",
            "_model_module_version": "1.5.0",
            "value": "100%",
            "_view_count": null,
            "_view_module_version": "1.5.0",
            "description_tooltip": null,
            "_model_module": "@jupyter-widgets/controls",
            "layout": "IPY_MODEL_b026e6f254084630a294276ed2718772"
          }
        },
        "47b264bcc2964b30a34076e9a4fffacb": {
          "model_module": "@jupyter-widgets/controls",
          "model_name": "FloatProgressModel",
          "model_module_version": "1.5.0",
          "state": {
            "_view_name": "ProgressView",
            "style": "IPY_MODEL_425d9e9acd584c29ac8254605b484bfd",
            "_dom_classes": [],
            "description": "",
            "_model_name": "FloatProgressModel",
            "bar_style": "success",
            "max": 8,
            "_view_module": "@jupyter-widgets/controls",
            "_model_module_version": "1.5.0",
            "value": 8,
            "_view_count": null,
            "_view_module_version": "1.5.0",
            "orientation": "horizontal",
            "min": 0,
            "description_tooltip": null,
            "_model_module": "@jupyter-widgets/controls",
            "layout": "IPY_MODEL_8ec99a88a62c45bc88a4d46f908c9a37"
          }
        },
        "71638a39fd8042eeaf433feede1dd4bd": {
          "model_module": "@jupyter-widgets/controls",
          "model_name": "HTMLModel",
          "model_module_version": "1.5.0",
          "state": {
            "_view_name": "HTMLView",
            "style": "IPY_MODEL_4a6557bf0f3e4ed5a4b6b1c2af0b4332",
            "_dom_classes": [],
            "description": "",
            "_model_name": "HTMLModel",
            "placeholder": "​",
            "_view_module": "@jupyter-widgets/controls",
            "_model_module_version": "1.5.0",
            "value": " 8/8 [00:23&lt;00:00,  2.43s/it]",
            "_view_count": null,
            "_view_module_version": "1.5.0",
            "description_tooltip": null,
            "_model_module": "@jupyter-widgets/controls",
            "layout": "IPY_MODEL_b09b927eda2b4b2483790bdd2ae5eede"
          }
        },
        "b863554bf08440ddb1b6d1b3c075a6a3": {
          "model_module": "@jupyter-widgets/controls",
          "model_name": "DescriptionStyleModel",
          "model_module_version": "1.5.0",
          "state": {
            "_view_name": "StyleView",
            "_model_name": "DescriptionStyleModel",
            "description_width": "",
            "_view_module": "@jupyter-widgets/base",
            "_model_module_version": "1.5.0",
            "_view_count": null,
            "_view_module_version": "1.2.0",
            "_model_module": "@jupyter-widgets/controls"
          }
        },
        "b026e6f254084630a294276ed2718772": {
          "model_module": "@jupyter-widgets/base",
          "model_name": "LayoutModel",
          "model_module_version": "1.2.0",
          "state": {
            "_view_name": "LayoutView",
            "grid_template_rows": null,
            "right": null,
            "justify_content": null,
            "_view_module": "@jupyter-widgets/base",
            "overflow": null,
            "_model_module_version": "1.2.0",
            "_view_count": null,
            "flex_flow": null,
            "width": null,
            "min_width": null,
            "border": null,
            "align_items": null,
            "bottom": null,
            "_model_module": "@jupyter-widgets/base",
            "top": null,
            "grid_column": null,
            "overflow_y": null,
            "overflow_x": null,
            "grid_auto_flow": null,
            "grid_area": null,
            "grid_template_columns": null,
            "flex": null,
            "_model_name": "LayoutModel",
            "justify_items": null,
            "grid_row": null,
            "max_height": null,
            "align_content": null,
            "visibility": null,
            "align_self": null,
            "height": null,
            "min_height": null,
            "padding": null,
            "grid_auto_rows": null,
            "grid_gap": null,
            "max_width": null,
            "order": null,
            "_view_module_version": "1.2.0",
            "grid_template_areas": null,
            "object_position": null,
            "object_fit": null,
            "grid_auto_columns": null,
            "margin": null,
            "display": null,
            "left": null
          }
        },
        "425d9e9acd584c29ac8254605b484bfd": {
          "model_module": "@jupyter-widgets/controls",
          "model_name": "ProgressStyleModel",
          "model_module_version": "1.5.0",
          "state": {
            "_view_name": "StyleView",
            "_model_name": "ProgressStyleModel",
            "description_width": "",
            "_view_module": "@jupyter-widgets/base",
            "_model_module_version": "1.5.0",
            "_view_count": null,
            "_view_module_version": "1.2.0",
            "bar_color": null,
            "_model_module": "@jupyter-widgets/controls"
          }
        },
        "8ec99a88a62c45bc88a4d46f908c9a37": {
          "model_module": "@jupyter-widgets/base",
          "model_name": "LayoutModel",
          "model_module_version": "1.2.0",
          "state": {
            "_view_name": "LayoutView",
            "grid_template_rows": null,
            "right": null,
            "justify_content": null,
            "_view_module": "@jupyter-widgets/base",
            "overflow": null,
            "_model_module_version": "1.2.0",
            "_view_count": null,
            "flex_flow": null,
            "width": null,
            "min_width": null,
            "border": null,
            "align_items": null,
            "bottom": null,
            "_model_module": "@jupyter-widgets/base",
            "top": null,
            "grid_column": null,
            "overflow_y": null,
            "overflow_x": null,
            "grid_auto_flow": null,
            "grid_area": null,
            "grid_template_columns": null,
            "flex": null,
            "_model_name": "LayoutModel",
            "justify_items": null,
            "grid_row": null,
            "max_height": null,
            "align_content": null,
            "visibility": null,
            "align_self": null,
            "height": null,
            "min_height": null,
            "padding": null,
            "grid_auto_rows": null,
            "grid_gap": null,
            "max_width": null,
            "order": null,
            "_view_module_version": "1.2.0",
            "grid_template_areas": null,
            "object_position": null,
            "object_fit": null,
            "grid_auto_columns": null,
            "margin": null,
            "display": null,
            "left": null
          }
        },
        "4a6557bf0f3e4ed5a4b6b1c2af0b4332": {
          "model_module": "@jupyter-widgets/controls",
          "model_name": "DescriptionStyleModel",
          "model_module_version": "1.5.0",
          "state": {
            "_view_name": "StyleView",
            "_model_name": "DescriptionStyleModel",
            "description_width": "",
            "_view_module": "@jupyter-widgets/base",
            "_model_module_version": "1.5.0",
            "_view_count": null,
            "_view_module_version": "1.2.0",
            "_model_module": "@jupyter-widgets/controls"
          }
        },
        "b09b927eda2b4b2483790bdd2ae5eede": {
          "model_module": "@jupyter-widgets/base",
          "model_name": "LayoutModel",
          "model_module_version": "1.2.0",
          "state": {
            "_view_name": "LayoutView",
            "grid_template_rows": null,
            "right": null,
            "justify_content": null,
            "_view_module": "@jupyter-widgets/base",
            "overflow": null,
            "_model_module_version": "1.2.0",
            "_view_count": null,
            "flex_flow": null,
            "width": null,
            "min_width": null,
            "border": null,
            "align_items": null,
            "bottom": null,
            "_model_module": "@jupyter-widgets/base",
            "top": null,
            "grid_column": null,
            "overflow_y": null,
            "overflow_x": null,
            "grid_auto_flow": null,
            "grid_area": null,
            "grid_template_columns": null,
            "flex": null,
            "_model_name": "LayoutModel",
            "justify_items": null,
            "grid_row": null,
            "max_height": null,
            "align_content": null,
            "visibility": null,
            "align_self": null,
            "height": null,
            "min_height": null,
            "padding": null,
            "grid_auto_rows": null,
            "grid_gap": null,
            "max_width": null,
            "order": null,
            "_view_module_version": "1.2.0",
            "grid_template_areas": null,
            "object_position": null,
            "object_fit": null,
            "grid_auto_columns": null,
            "margin": null,
            "display": null,
            "left": null
          }
        },
        "3d4308ee55ae445e85b1b9739da2828b": {
          "model_module": "@jupyter-widgets/controls",
          "model_name": "HBoxModel",
          "model_module_version": "1.5.0",
          "state": {
            "_view_name": "HBoxView",
            "_dom_classes": [],
            "_model_name": "HBoxModel",
            "_view_module": "@jupyter-widgets/controls",
            "_model_module_version": "1.5.0",
            "_view_count": null,
            "_view_module_version": "1.5.0",
            "box_style": "",
            "layout": "IPY_MODEL_198b77f487fc47909e25a647399ebbfe",
            "_model_module": "@jupyter-widgets/controls",
            "children": [
              "IPY_MODEL_13a6372bc4ac44aba483fba6eb4683b3",
              "IPY_MODEL_b5da942a68494594b332df31acf0b525",
              "IPY_MODEL_63ca0eb47e1c4d87a48d18908d82dfad"
            ]
          }
        },
        "198b77f487fc47909e25a647399ebbfe": {
          "model_module": "@jupyter-widgets/base",
          "model_name": "LayoutModel",
          "model_module_version": "1.2.0",
          "state": {
            "_view_name": "LayoutView",
            "grid_template_rows": null,
            "right": null,
            "justify_content": null,
            "_view_module": "@jupyter-widgets/base",
            "overflow": null,
            "_model_module_version": "1.2.0",
            "_view_count": null,
            "flex_flow": null,
            "width": null,
            "min_width": null,
            "border": null,
            "align_items": null,
            "bottom": null,
            "_model_module": "@jupyter-widgets/base",
            "top": null,
            "grid_column": null,
            "overflow_y": null,
            "overflow_x": null,
            "grid_auto_flow": null,
            "grid_area": null,
            "grid_template_columns": null,
            "flex": null,
            "_model_name": "LayoutModel",
            "justify_items": null,
            "grid_row": null,
            "max_height": null,
            "align_content": null,
            "visibility": null,
            "align_self": null,
            "height": null,
            "min_height": null,
            "padding": null,
            "grid_auto_rows": null,
            "grid_gap": null,
            "max_width": null,
            "order": null,
            "_view_module_version": "1.2.0",
            "grid_template_areas": null,
            "object_position": null,
            "object_fit": null,
            "grid_auto_columns": null,
            "margin": null,
            "display": null,
            "left": null
          }
        },
        "13a6372bc4ac44aba483fba6eb4683b3": {
          "model_module": "@jupyter-widgets/controls",
          "model_name": "HTMLModel",
          "model_module_version": "1.5.0",
          "state": {
            "_view_name": "HTMLView",
            "style": "IPY_MODEL_c3b339826b1a48f7a40fd0d876a9d3c6",
            "_dom_classes": [],
            "description": "",
            "_model_name": "HTMLModel",
            "placeholder": "​",
            "_view_module": "@jupyter-widgets/controls",
            "_model_module_version": "1.5.0",
            "value": "100%",
            "_view_count": null,
            "_view_module_version": "1.5.0",
            "description_tooltip": null,
            "_model_module": "@jupyter-widgets/controls",
            "layout": "IPY_MODEL_a55ccf2ed7f94cb49cdb62fead934ed8"
          }
        },
        "b5da942a68494594b332df31acf0b525": {
          "model_module": "@jupyter-widgets/controls",
          "model_name": "FloatProgressModel",
          "model_module_version": "1.5.0",
          "state": {
            "_view_name": "ProgressView",
            "style": "IPY_MODEL_748bb9dbaef94895bd3cb34eddf562b7",
            "_dom_classes": [],
            "description": "",
            "_model_name": "FloatProgressModel",
            "bar_style": "success",
            "max": 15,
            "_view_module": "@jupyter-widgets/controls",
            "_model_module_version": "1.5.0",
            "value": 15,
            "_view_count": null,
            "_view_module_version": "1.5.0",
            "orientation": "horizontal",
            "min": 0,
            "description_tooltip": null,
            "_model_module": "@jupyter-widgets/controls",
            "layout": "IPY_MODEL_b0af5da4e656453a82d1c608c51c0716"
          }
        },
        "63ca0eb47e1c4d87a48d18908d82dfad": {
          "model_module": "@jupyter-widgets/controls",
          "model_name": "HTMLModel",
          "model_module_version": "1.5.0",
          "state": {
            "_view_name": "HTMLView",
            "style": "IPY_MODEL_5302a521ce2f4c1a8fa89d4ffa816578",
            "_dom_classes": [],
            "description": "",
            "_model_name": "HTMLModel",
            "placeholder": "​",
            "_view_module": "@jupyter-widgets/controls",
            "_model_module_version": "1.5.0",
            "value": " 15/15 [00:41&lt;00:00,  3.35s/it]",
            "_view_count": null,
            "_view_module_version": "1.5.0",
            "description_tooltip": null,
            "_model_module": "@jupyter-widgets/controls",
            "layout": "IPY_MODEL_ae63a83d2afd426292601dbf140da4e2"
          }
        },
        "c3b339826b1a48f7a40fd0d876a9d3c6": {
          "model_module": "@jupyter-widgets/controls",
          "model_name": "DescriptionStyleModel",
          "model_module_version": "1.5.0",
          "state": {
            "_view_name": "StyleView",
            "_model_name": "DescriptionStyleModel",
            "description_width": "",
            "_view_module": "@jupyter-widgets/base",
            "_model_module_version": "1.5.0",
            "_view_count": null,
            "_view_module_version": "1.2.0",
            "_model_module": "@jupyter-widgets/controls"
          }
        },
        "a55ccf2ed7f94cb49cdb62fead934ed8": {
          "model_module": "@jupyter-widgets/base",
          "model_name": "LayoutModel",
          "model_module_version": "1.2.0",
          "state": {
            "_view_name": "LayoutView",
            "grid_template_rows": null,
            "right": null,
            "justify_content": null,
            "_view_module": "@jupyter-widgets/base",
            "overflow": null,
            "_model_module_version": "1.2.0",
            "_view_count": null,
            "flex_flow": null,
            "width": null,
            "min_width": null,
            "border": null,
            "align_items": null,
            "bottom": null,
            "_model_module": "@jupyter-widgets/base",
            "top": null,
            "grid_column": null,
            "overflow_y": null,
            "overflow_x": null,
            "grid_auto_flow": null,
            "grid_area": null,
            "grid_template_columns": null,
            "flex": null,
            "_model_name": "LayoutModel",
            "justify_items": null,
            "grid_row": null,
            "max_height": null,
            "align_content": null,
            "visibility": null,
            "align_self": null,
            "height": null,
            "min_height": null,
            "padding": null,
            "grid_auto_rows": null,
            "grid_gap": null,
            "max_width": null,
            "order": null,
            "_view_module_version": "1.2.0",
            "grid_template_areas": null,
            "object_position": null,
            "object_fit": null,
            "grid_auto_columns": null,
            "margin": null,
            "display": null,
            "left": null
          }
        },
        "748bb9dbaef94895bd3cb34eddf562b7": {
          "model_module": "@jupyter-widgets/controls",
          "model_name": "ProgressStyleModel",
          "model_module_version": "1.5.0",
          "state": {
            "_view_name": "StyleView",
            "_model_name": "ProgressStyleModel",
            "description_width": "",
            "_view_module": "@jupyter-widgets/base",
            "_model_module_version": "1.5.0",
            "_view_count": null,
            "_view_module_version": "1.2.0",
            "bar_color": null,
            "_model_module": "@jupyter-widgets/controls"
          }
        },
        "b0af5da4e656453a82d1c608c51c0716": {
          "model_module": "@jupyter-widgets/base",
          "model_name": "LayoutModel",
          "model_module_version": "1.2.0",
          "state": {
            "_view_name": "LayoutView",
            "grid_template_rows": null,
            "right": null,
            "justify_content": null,
            "_view_module": "@jupyter-widgets/base",
            "overflow": null,
            "_model_module_version": "1.2.0",
            "_view_count": null,
            "flex_flow": null,
            "width": null,
            "min_width": null,
            "border": null,
            "align_items": null,
            "bottom": null,
            "_model_module": "@jupyter-widgets/base",
            "top": null,
            "grid_column": null,
            "overflow_y": null,
            "overflow_x": null,
            "grid_auto_flow": null,
            "grid_area": null,
            "grid_template_columns": null,
            "flex": null,
            "_model_name": "LayoutModel",
            "justify_items": null,
            "grid_row": null,
            "max_height": null,
            "align_content": null,
            "visibility": null,
            "align_self": null,
            "height": null,
            "min_height": null,
            "padding": null,
            "grid_auto_rows": null,
            "grid_gap": null,
            "max_width": null,
            "order": null,
            "_view_module_version": "1.2.0",
            "grid_template_areas": null,
            "object_position": null,
            "object_fit": null,
            "grid_auto_columns": null,
            "margin": null,
            "display": null,
            "left": null
          }
        },
        "5302a521ce2f4c1a8fa89d4ffa816578": {
          "model_module": "@jupyter-widgets/controls",
          "model_name": "DescriptionStyleModel",
          "model_module_version": "1.5.0",
          "state": {
            "_view_name": "StyleView",
            "_model_name": "DescriptionStyleModel",
            "description_width": "",
            "_view_module": "@jupyter-widgets/base",
            "_model_module_version": "1.5.0",
            "_view_count": null,
            "_view_module_version": "1.2.0",
            "_model_module": "@jupyter-widgets/controls"
          }
        },
        "ae63a83d2afd426292601dbf140da4e2": {
          "model_module": "@jupyter-widgets/base",
          "model_name": "LayoutModel",
          "model_module_version": "1.2.0",
          "state": {
            "_view_name": "LayoutView",
            "grid_template_rows": null,
            "right": null,
            "justify_content": null,
            "_view_module": "@jupyter-widgets/base",
            "overflow": null,
            "_model_module_version": "1.2.0",
            "_view_count": null,
            "flex_flow": null,
            "width": null,
            "min_width": null,
            "border": null,
            "align_items": null,
            "bottom": null,
            "_model_module": "@jupyter-widgets/base",
            "top": null,
            "grid_column": null,
            "overflow_y": null,
            "overflow_x": null,
            "grid_auto_flow": null,
            "grid_area": null,
            "grid_template_columns": null,
            "flex": null,
            "_model_name": "LayoutModel",
            "justify_items": null,
            "grid_row": null,
            "max_height": null,
            "align_content": null,
            "visibility": null,
            "align_self": null,
            "height": null,
            "min_height": null,
            "padding": null,
            "grid_auto_rows": null,
            "grid_gap": null,
            "max_width": null,
            "order": null,
            "_view_module_version": "1.2.0",
            "grid_template_areas": null,
            "object_position": null,
            "object_fit": null,
            "grid_auto_columns": null,
            "margin": null,
            "display": null,
            "left": null
          }
        },
        "f19d208607fe437e9f4cd959406b41c3": {
          "model_module": "@jupyter-widgets/controls",
          "model_name": "HBoxModel",
          "model_module_version": "1.5.0",
          "state": {
            "_view_name": "HBoxView",
            "_dom_classes": [],
            "_model_name": "HBoxModel",
            "_view_module": "@jupyter-widgets/controls",
            "_model_module_version": "1.5.0",
            "_view_count": null,
            "_view_module_version": "1.5.0",
            "box_style": "",
            "layout": "IPY_MODEL_2ef99e57ff614bd8bec0f374d69ca4d2",
            "_model_module": "@jupyter-widgets/controls",
            "children": [
              "IPY_MODEL_c014fd87c1314e9190721e65ed0d2dbe",
              "IPY_MODEL_79a9447166564686aaeae052babc3516",
              "IPY_MODEL_c03c291ce8d14224badf3abdfddf30b3"
            ]
          }
        },
        "2ef99e57ff614bd8bec0f374d69ca4d2": {
          "model_module": "@jupyter-widgets/base",
          "model_name": "LayoutModel",
          "model_module_version": "1.2.0",
          "state": {
            "_view_name": "LayoutView",
            "grid_template_rows": null,
            "right": null,
            "justify_content": null,
            "_view_module": "@jupyter-widgets/base",
            "overflow": null,
            "_model_module_version": "1.2.0",
            "_view_count": null,
            "flex_flow": null,
            "width": null,
            "min_width": null,
            "border": null,
            "align_items": null,
            "bottom": null,
            "_model_module": "@jupyter-widgets/base",
            "top": null,
            "grid_column": null,
            "overflow_y": null,
            "overflow_x": null,
            "grid_auto_flow": null,
            "grid_area": null,
            "grid_template_columns": null,
            "flex": null,
            "_model_name": "LayoutModel",
            "justify_items": null,
            "grid_row": null,
            "max_height": null,
            "align_content": null,
            "visibility": null,
            "align_self": null,
            "height": null,
            "min_height": null,
            "padding": null,
            "grid_auto_rows": null,
            "grid_gap": null,
            "max_width": null,
            "order": null,
            "_view_module_version": "1.2.0",
            "grid_template_areas": null,
            "object_position": null,
            "object_fit": null,
            "grid_auto_columns": null,
            "margin": null,
            "display": null,
            "left": null
          }
        },
        "c014fd87c1314e9190721e65ed0d2dbe": {
          "model_module": "@jupyter-widgets/controls",
          "model_name": "HTMLModel",
          "model_module_version": "1.5.0",
          "state": {
            "_view_name": "HTMLView",
            "style": "IPY_MODEL_97fc2eee02b14597af3766b65a8f3074",
            "_dom_classes": [],
            "description": "",
            "_model_name": "HTMLModel",
            "placeholder": "​",
            "_view_module": "@jupyter-widgets/controls",
            "_model_module_version": "1.5.0",
            "value": "100%",
            "_view_count": null,
            "_view_module_version": "1.5.0",
            "description_tooltip": null,
            "_model_module": "@jupyter-widgets/controls",
            "layout": "IPY_MODEL_6519fa48a9a94c04b25b334f08f595cd"
          }
        },
        "79a9447166564686aaeae052babc3516": {
          "model_module": "@jupyter-widgets/controls",
          "model_name": "FloatProgressModel",
          "model_module_version": "1.5.0",
          "state": {
            "_view_name": "ProgressView",
            "style": "IPY_MODEL_d6103a6e020444028c7dcf00bca85cbb",
            "_dom_classes": [],
            "description": "",
            "_model_name": "FloatProgressModel",
            "bar_style": "success",
            "max": 1,
            "_view_module": "@jupyter-widgets/controls",
            "_model_module_version": "1.5.0",
            "value": 1,
            "_view_count": null,
            "_view_module_version": "1.5.0",
            "orientation": "horizontal",
            "min": 0,
            "description_tooltip": null,
            "_model_module": "@jupyter-widgets/controls",
            "layout": "IPY_MODEL_1aa7ca9ba5be497ea4082f7a4b002cf3"
          }
        },
        "c03c291ce8d14224badf3abdfddf30b3": {
          "model_module": "@jupyter-widgets/controls",
          "model_name": "HTMLModel",
          "model_module_version": "1.5.0",
          "state": {
            "_view_name": "HTMLView",
            "style": "IPY_MODEL_5d99a95a121e464db1bcd37547cf9e82",
            "_dom_classes": [],
            "description": "",
            "_model_name": "HTMLModel",
            "placeholder": "​",
            "_view_module": "@jupyter-widgets/controls",
            "_model_module_version": "1.5.0",
            "value": " 1/1 [00:02&lt;00:00,  2.35s/it]",
            "_view_count": null,
            "_view_module_version": "1.5.0",
            "description_tooltip": null,
            "_model_module": "@jupyter-widgets/controls",
            "layout": "IPY_MODEL_0bc92cb7616646f59b84d3a5e349f84d"
          }
        },
        "97fc2eee02b14597af3766b65a8f3074": {
          "model_module": "@jupyter-widgets/controls",
          "model_name": "DescriptionStyleModel",
          "model_module_version": "1.5.0",
          "state": {
            "_view_name": "StyleView",
            "_model_name": "DescriptionStyleModel",
            "description_width": "",
            "_view_module": "@jupyter-widgets/base",
            "_model_module_version": "1.5.0",
            "_view_count": null,
            "_view_module_version": "1.2.0",
            "_model_module": "@jupyter-widgets/controls"
          }
        },
        "6519fa48a9a94c04b25b334f08f595cd": {
          "model_module": "@jupyter-widgets/base",
          "model_name": "LayoutModel",
          "model_module_version": "1.2.0",
          "state": {
            "_view_name": "LayoutView",
            "grid_template_rows": null,
            "right": null,
            "justify_content": null,
            "_view_module": "@jupyter-widgets/base",
            "overflow": null,
            "_model_module_version": "1.2.0",
            "_view_count": null,
            "flex_flow": null,
            "width": null,
            "min_width": null,
            "border": null,
            "align_items": null,
            "bottom": null,
            "_model_module": "@jupyter-widgets/base",
            "top": null,
            "grid_column": null,
            "overflow_y": null,
            "overflow_x": null,
            "grid_auto_flow": null,
            "grid_area": null,
            "grid_template_columns": null,
            "flex": null,
            "_model_name": "LayoutModel",
            "justify_items": null,
            "grid_row": null,
            "max_height": null,
            "align_content": null,
            "visibility": null,
            "align_self": null,
            "height": null,
            "min_height": null,
            "padding": null,
            "grid_auto_rows": null,
            "grid_gap": null,
            "max_width": null,
            "order": null,
            "_view_module_version": "1.2.0",
            "grid_template_areas": null,
            "object_position": null,
            "object_fit": null,
            "grid_auto_columns": null,
            "margin": null,
            "display": null,
            "left": null
          }
        },
        "d6103a6e020444028c7dcf00bca85cbb": {
          "model_module": "@jupyter-widgets/controls",
          "model_name": "ProgressStyleModel",
          "model_module_version": "1.5.0",
          "state": {
            "_view_name": "StyleView",
            "_model_name": "ProgressStyleModel",
            "description_width": "",
            "_view_module": "@jupyter-widgets/base",
            "_model_module_version": "1.5.0",
            "_view_count": null,
            "_view_module_version": "1.2.0",
            "bar_color": null,
            "_model_module": "@jupyter-widgets/controls"
          }
        },
        "1aa7ca9ba5be497ea4082f7a4b002cf3": {
          "model_module": "@jupyter-widgets/base",
          "model_name": "LayoutModel",
          "model_module_version": "1.2.0",
          "state": {
            "_view_name": "LayoutView",
            "grid_template_rows": null,
            "right": null,
            "justify_content": null,
            "_view_module": "@jupyter-widgets/base",
            "overflow": null,
            "_model_module_version": "1.2.0",
            "_view_count": null,
            "flex_flow": null,
            "width": null,
            "min_width": null,
            "border": null,
            "align_items": null,
            "bottom": null,
            "_model_module": "@jupyter-widgets/base",
            "top": null,
            "grid_column": null,
            "overflow_y": null,
            "overflow_x": null,
            "grid_auto_flow": null,
            "grid_area": null,
            "grid_template_columns": null,
            "flex": null,
            "_model_name": "LayoutModel",
            "justify_items": null,
            "grid_row": null,
            "max_height": null,
            "align_content": null,
            "visibility": null,
            "align_self": null,
            "height": null,
            "min_height": null,
            "padding": null,
            "grid_auto_rows": null,
            "grid_gap": null,
            "max_width": null,
            "order": null,
            "_view_module_version": "1.2.0",
            "grid_template_areas": null,
            "object_position": null,
            "object_fit": null,
            "grid_auto_columns": null,
            "margin": null,
            "display": null,
            "left": null
          }
        },
        "5d99a95a121e464db1bcd37547cf9e82": {
          "model_module": "@jupyter-widgets/controls",
          "model_name": "DescriptionStyleModel",
          "model_module_version": "1.5.0",
          "state": {
            "_view_name": "StyleView",
            "_model_name": "DescriptionStyleModel",
            "description_width": "",
            "_view_module": "@jupyter-widgets/base",
            "_model_module_version": "1.5.0",
            "_view_count": null,
            "_view_module_version": "1.2.0",
            "_model_module": "@jupyter-widgets/controls"
          }
        },
        "0bc92cb7616646f59b84d3a5e349f84d": {
          "model_module": "@jupyter-widgets/base",
          "model_name": "LayoutModel",
          "model_module_version": "1.2.0",
          "state": {
            "_view_name": "LayoutView",
            "grid_template_rows": null,
            "right": null,
            "justify_content": null,
            "_view_module": "@jupyter-widgets/base",
            "overflow": null,
            "_model_module_version": "1.2.0",
            "_view_count": null,
            "flex_flow": null,
            "width": null,
            "min_width": null,
            "border": null,
            "align_items": null,
            "bottom": null,
            "_model_module": "@jupyter-widgets/base",
            "top": null,
            "grid_column": null,
            "overflow_y": null,
            "overflow_x": null,
            "grid_auto_flow": null,
            "grid_area": null,
            "grid_template_columns": null,
            "flex": null,
            "_model_name": "LayoutModel",
            "justify_items": null,
            "grid_row": null,
            "max_height": null,
            "align_content": null,
            "visibility": null,
            "align_self": null,
            "height": null,
            "min_height": null,
            "padding": null,
            "grid_auto_rows": null,
            "grid_gap": null,
            "max_width": null,
            "order": null,
            "_view_module_version": "1.2.0",
            "grid_template_areas": null,
            "object_position": null,
            "object_fit": null,
            "grid_auto_columns": null,
            "margin": null,
            "display": null,
            "left": null
          }
        },
        "7151e40dcdde4ef3aa8eb857d41d1b81": {
          "model_module": "@jupyter-widgets/controls",
          "model_name": "HBoxModel",
          "model_module_version": "1.5.0",
          "state": {
            "_view_name": "HBoxView",
            "_dom_classes": [],
            "_model_name": "HBoxModel",
            "_view_module": "@jupyter-widgets/controls",
            "_model_module_version": "1.5.0",
            "_view_count": null,
            "_view_module_version": "1.5.0",
            "box_style": "",
            "layout": "IPY_MODEL_825288565a514c598a65847b3e1e417a",
            "_model_module": "@jupyter-widgets/controls",
            "children": [
              "IPY_MODEL_451a34fb71c14e35bb9993f4aaa42187",
              "IPY_MODEL_5f25a4a3e1234619a166946a7dff05da",
              "IPY_MODEL_c5b89fa22e2a471a9b81e66397df4216"
            ]
          }
        },
        "825288565a514c598a65847b3e1e417a": {
          "model_module": "@jupyter-widgets/base",
          "model_name": "LayoutModel",
          "model_module_version": "1.2.0",
          "state": {
            "_view_name": "LayoutView",
            "grid_template_rows": null,
            "right": null,
            "justify_content": null,
            "_view_module": "@jupyter-widgets/base",
            "overflow": null,
            "_model_module_version": "1.2.0",
            "_view_count": null,
            "flex_flow": null,
            "width": null,
            "min_width": null,
            "border": null,
            "align_items": null,
            "bottom": null,
            "_model_module": "@jupyter-widgets/base",
            "top": null,
            "grid_column": null,
            "overflow_y": null,
            "overflow_x": null,
            "grid_auto_flow": null,
            "grid_area": null,
            "grid_template_columns": null,
            "flex": null,
            "_model_name": "LayoutModel",
            "justify_items": null,
            "grid_row": null,
            "max_height": null,
            "align_content": null,
            "visibility": null,
            "align_self": null,
            "height": null,
            "min_height": null,
            "padding": null,
            "grid_auto_rows": null,
            "grid_gap": null,
            "max_width": null,
            "order": null,
            "_view_module_version": "1.2.0",
            "grid_template_areas": null,
            "object_position": null,
            "object_fit": null,
            "grid_auto_columns": null,
            "margin": null,
            "display": null,
            "left": null
          }
        },
        "451a34fb71c14e35bb9993f4aaa42187": {
          "model_module": "@jupyter-widgets/controls",
          "model_name": "HTMLModel",
          "model_module_version": "1.5.0",
          "state": {
            "_view_name": "HTMLView",
            "style": "IPY_MODEL_6c1ebe04ab0a4e4989f666af4683baf5",
            "_dom_classes": [],
            "description": "",
            "_model_name": "HTMLModel",
            "placeholder": "​",
            "_view_module": "@jupyter-widgets/controls",
            "_model_module_version": "1.5.0",
            "value": "100%",
            "_view_count": null,
            "_view_module_version": "1.5.0",
            "description_tooltip": null,
            "_model_module": "@jupyter-widgets/controls",
            "layout": "IPY_MODEL_cea8bcefabe3492d8a82872da3032f3e"
          }
        },
        "5f25a4a3e1234619a166946a7dff05da": {
          "model_module": "@jupyter-widgets/controls",
          "model_name": "FloatProgressModel",
          "model_module_version": "1.5.0",
          "state": {
            "_view_name": "ProgressView",
            "style": "IPY_MODEL_f204143f8a8a45609a343333e11b5d07",
            "_dom_classes": [],
            "description": "",
            "_model_name": "FloatProgressModel",
            "bar_style": "success",
            "max": 250,
            "_view_module": "@jupyter-widgets/controls",
            "_model_module_version": "1.5.0",
            "value": 250,
            "_view_count": null,
            "_view_module_version": "1.5.0",
            "orientation": "horizontal",
            "min": 0,
            "description_tooltip": null,
            "_model_module": "@jupyter-widgets/controls",
            "layout": "IPY_MODEL_53ac0d0ef3034bbaad94b6a24b1bf7b9"
          }
        },
        "c5b89fa22e2a471a9b81e66397df4216": {
          "model_module": "@jupyter-widgets/controls",
          "model_name": "HTMLModel",
          "model_module_version": "1.5.0",
          "state": {
            "_view_name": "HTMLView",
            "style": "IPY_MODEL_5f66945adabb4db497ccbd36ac4239ce",
            "_dom_classes": [],
            "description": "",
            "_model_name": "HTMLModel",
            "placeholder": "​",
            "_view_module": "@jupyter-widgets/controls",
            "_model_module_version": "1.5.0",
            "value": " 250/250 [00:23&lt;00:00, 11.85it/s]",
            "_view_count": null,
            "_view_module_version": "1.5.0",
            "description_tooltip": null,
            "_model_module": "@jupyter-widgets/controls",
            "layout": "IPY_MODEL_f5d33144a96848d59f8115e5749ebd5a"
          }
        },
        "6c1ebe04ab0a4e4989f666af4683baf5": {
          "model_module": "@jupyter-widgets/controls",
          "model_name": "DescriptionStyleModel",
          "model_module_version": "1.5.0",
          "state": {
            "_view_name": "StyleView",
            "_model_name": "DescriptionStyleModel",
            "description_width": "",
            "_view_module": "@jupyter-widgets/base",
            "_model_module_version": "1.5.0",
            "_view_count": null,
            "_view_module_version": "1.2.0",
            "_model_module": "@jupyter-widgets/controls"
          }
        },
        "cea8bcefabe3492d8a82872da3032f3e": {
          "model_module": "@jupyter-widgets/base",
          "model_name": "LayoutModel",
          "model_module_version": "1.2.0",
          "state": {
            "_view_name": "LayoutView",
            "grid_template_rows": null,
            "right": null,
            "justify_content": null,
            "_view_module": "@jupyter-widgets/base",
            "overflow": null,
            "_model_module_version": "1.2.0",
            "_view_count": null,
            "flex_flow": null,
            "width": null,
            "min_width": null,
            "border": null,
            "align_items": null,
            "bottom": null,
            "_model_module": "@jupyter-widgets/base",
            "top": null,
            "grid_column": null,
            "overflow_y": null,
            "overflow_x": null,
            "grid_auto_flow": null,
            "grid_area": null,
            "grid_template_columns": null,
            "flex": null,
            "_model_name": "LayoutModel",
            "justify_items": null,
            "grid_row": null,
            "max_height": null,
            "align_content": null,
            "visibility": null,
            "align_self": null,
            "height": null,
            "min_height": null,
            "padding": null,
            "grid_auto_rows": null,
            "grid_gap": null,
            "max_width": null,
            "order": null,
            "_view_module_version": "1.2.0",
            "grid_template_areas": null,
            "object_position": null,
            "object_fit": null,
            "grid_auto_columns": null,
            "margin": null,
            "display": null,
            "left": null
          }
        },
        "f204143f8a8a45609a343333e11b5d07": {
          "model_module": "@jupyter-widgets/controls",
          "model_name": "ProgressStyleModel",
          "model_module_version": "1.5.0",
          "state": {
            "_view_name": "StyleView",
            "_model_name": "ProgressStyleModel",
            "description_width": "",
            "_view_module": "@jupyter-widgets/base",
            "_model_module_version": "1.5.0",
            "_view_count": null,
            "_view_module_version": "1.2.0",
            "bar_color": null,
            "_model_module": "@jupyter-widgets/controls"
          }
        },
        "53ac0d0ef3034bbaad94b6a24b1bf7b9": {
          "model_module": "@jupyter-widgets/base",
          "model_name": "LayoutModel",
          "model_module_version": "1.2.0",
          "state": {
            "_view_name": "LayoutView",
            "grid_template_rows": null,
            "right": null,
            "justify_content": null,
            "_view_module": "@jupyter-widgets/base",
            "overflow": null,
            "_model_module_version": "1.2.0",
            "_view_count": null,
            "flex_flow": null,
            "width": null,
            "min_width": null,
            "border": null,
            "align_items": null,
            "bottom": null,
            "_model_module": "@jupyter-widgets/base",
            "top": null,
            "grid_column": null,
            "overflow_y": null,
            "overflow_x": null,
            "grid_auto_flow": null,
            "grid_area": null,
            "grid_template_columns": null,
            "flex": null,
            "_model_name": "LayoutModel",
            "justify_items": null,
            "grid_row": null,
            "max_height": null,
            "align_content": null,
            "visibility": null,
            "align_self": null,
            "height": null,
            "min_height": null,
            "padding": null,
            "grid_auto_rows": null,
            "grid_gap": null,
            "max_width": null,
            "order": null,
            "_view_module_version": "1.2.0",
            "grid_template_areas": null,
            "object_position": null,
            "object_fit": null,
            "grid_auto_columns": null,
            "margin": null,
            "display": null,
            "left": null
          }
        },
        "5f66945adabb4db497ccbd36ac4239ce": {
          "model_module": "@jupyter-widgets/controls",
          "model_name": "DescriptionStyleModel",
          "model_module_version": "1.5.0",
          "state": {
            "_view_name": "StyleView",
            "_model_name": "DescriptionStyleModel",
            "description_width": "",
            "_view_module": "@jupyter-widgets/base",
            "_model_module_version": "1.5.0",
            "_view_count": null,
            "_view_module_version": "1.2.0",
            "_model_module": "@jupyter-widgets/controls"
          }
        },
        "f5d33144a96848d59f8115e5749ebd5a": {
          "model_module": "@jupyter-widgets/base",
          "model_name": "LayoutModel",
          "model_module_version": "1.2.0",
          "state": {
            "_view_name": "LayoutView",
            "grid_template_rows": null,
            "right": null,
            "justify_content": null,
            "_view_module": "@jupyter-widgets/base",
            "overflow": null,
            "_model_module_version": "1.2.0",
            "_view_count": null,
            "flex_flow": null,
            "width": null,
            "min_width": null,
            "border": null,
            "align_items": null,
            "bottom": null,
            "_model_module": "@jupyter-widgets/base",
            "top": null,
            "grid_column": null,
            "overflow_y": null,
            "overflow_x": null,
            "grid_auto_flow": null,
            "grid_area": null,
            "grid_template_columns": null,
            "flex": null,
            "_model_name": "LayoutModel",
            "justify_items": null,
            "grid_row": null,
            "max_height": null,
            "align_content": null,
            "visibility": null,
            "align_self": null,
            "height": null,
            "min_height": null,
            "padding": null,
            "grid_auto_rows": null,
            "grid_gap": null,
            "max_width": null,
            "order": null,
            "_view_module_version": "1.2.0",
            "grid_template_areas": null,
            "object_position": null,
            "object_fit": null,
            "grid_auto_columns": null,
            "margin": null,
            "display": null,
            "left": null
          }
        }
      }
    }
  },
  "cells": [
    {
      "cell_type": "code",
      "metadata": {
        "colab": {
          "base_uri": "https://localhost:8080/"
        },
        "id": "A1QlWkxkw1QU",
        "outputId": "a5332176-2f8d-4483-a351-5836836d0122"
      },
      "source": [
        "from google.colab import drive\n",
        "drive.mount('/content/drive')"
      ],
      "execution_count": null,
      "outputs": [
        {
          "output_type": "stream",
          "name": "stdout",
          "text": [
            "Mounted at /content/drive\n"
          ]
        }
      ]
    },
    {
      "cell_type": "code",
      "metadata": {
        "colab": {
          "base_uri": "https://localhost:8080/"
        },
        "id": "Hk7e76C9USFY",
        "outputId": "05ae7e50-e8e5-4849-90ba-40be7cd984ad"
      },
      "source": [
        "!pip install pretty_midi\n",
        "!pip install np_utils"
      ],
      "execution_count": null,
      "outputs": [
        {
          "output_type": "stream",
          "name": "stdout",
          "text": [
            "Collecting pretty_midi\n",
            "  Downloading pretty_midi-0.2.9.tar.gz (5.6 MB)\n",
            "\u001b[K     |████████████████████████████████| 5.6 MB 22.4 MB/s \n",
            "\u001b[?25hRequirement already satisfied: numpy>=1.7.0 in /usr/local/lib/python3.7/dist-packages (from pretty_midi) (1.19.5)\n",
            "Collecting mido>=1.1.16\n",
            "  Downloading mido-1.2.10-py2.py3-none-any.whl (51 kB)\n",
            "\u001b[K     |████████████████████████████████| 51 kB 9.0 MB/s \n",
            "\u001b[?25hRequirement already satisfied: six in /usr/local/lib/python3.7/dist-packages (from pretty_midi) (1.15.0)\n",
            "Building wheels for collected packages: pretty-midi\n",
            "  Building wheel for pretty-midi (setup.py) ... \u001b[?25l\u001b[?25hdone\n",
            "  Created wheel for pretty-midi: filename=pretty_midi-0.2.9-py3-none-any.whl size=5591955 sha256=861800afd84719c80169e32c124be7a61e24434d376f091bb177b20951b52e2b\n",
            "  Stored in directory: /root/.cache/pip/wheels/ad/74/7c/a06473ca8dcb63efb98c1e67667ce39d52100f837835ea18fa\n",
            "Successfully built pretty-midi\n",
            "Installing collected packages: mido, pretty-midi\n",
            "Successfully installed mido-1.2.10 pretty-midi-0.2.9\n",
            "Collecting np_utils\n",
            "  Downloading np_utils-0.6.0.tar.gz (61 kB)\n",
            "\u001b[K     |████████████████████████████████| 61 kB 687 kB/s \n",
            "\u001b[?25hRequirement already satisfied: numpy>=1.0 in /usr/local/lib/python3.7/dist-packages (from np_utils) (1.19.5)\n",
            "Building wheels for collected packages: np-utils\n",
            "  Building wheel for np-utils (setup.py) ... \u001b[?25l\u001b[?25hdone\n",
            "  Created wheel for np-utils: filename=np_utils-0.6.0-py3-none-any.whl size=56459 sha256=7fb3d7683e012763f0ac83103c0417dd019b2491df31f7e08a05687c21e77fc8\n",
            "  Stored in directory: /root/.cache/pip/wheels/d2/83/71/a781667865955ae7dc18e5a4038401deb56d96eb85d3a5f1c0\n",
            "Successfully built np-utils\n",
            "Installing collected packages: np-utils\n",
            "Successfully installed np-utils-0.6.0\n"
          ]
        }
      ]
    },
    {
      "cell_type": "code",
      "metadata": {
        "id": "Mv649gEYCTfW",
        "colab": {
          "base_uri": "https://localhost:8080/"
        },
        "outputId": "093b703b-d2ab-4086-80bc-cc304a7f080b"
      },
      "source": [
        "import os\n",
        "import numpy as np\n",
        "import json\n",
        "import tensorflow as tf\n",
        "from tensorflow.keras import layers, regularizers, models\n",
        "import pretty_midi\n",
        "from PIL import Image\n",
        "import matplotlib.pyplot as plt\n",
        "\n",
        "import time\n",
        "import logging\n",
        "import pathlib\n",
        "from tqdm.autonotebook import tqdm\n",
        "import pandas as pd\n",
        "import np_utils\n",
        "\n",
        "import random\n",
        "\n",
        "from IPython import display"
      ],
      "execution_count": null,
      "outputs": [
        {
          "output_type": "stream",
          "name": "stderr",
          "text": [
            "/usr/local/lib/python3.7/dist-packages/ipykernel_launcher.py:13: TqdmExperimentalWarning: Using `tqdm.autonotebook.tqdm` in notebook mode. Use `tqdm.tqdm` instead to force console mode (e.g. in jupyter console)\n",
            "  del sys.path[0]\n"
          ]
        }
      ]
    },
    {
      "cell_type": "code",
      "metadata": {
        "colab": {
          "base_uri": "https://localhost:8080/",
          "height": 35
        },
        "id": "QlXpWlBQ1N9q",
        "outputId": "7cb5fb03-769b-4878-9ef6-15b4f8000500"
      },
      "source": [
        "tf.version.VERSION"
      ],
      "execution_count": null,
      "outputs": [
        {
          "output_type": "execute_result",
          "data": {
            "application/vnd.google.colaboratory.intrinsic+json": {
              "type": "string"
            },
            "text/plain": [
              "'2.7.0'"
            ]
          },
          "metadata": {},
          "execution_count": 4
        }
      ]
    },
    {
      "cell_type": "code",
      "metadata": {
        "id": "x-41muqk1OYp"
      },
      "source": [
        "logging.getLogger('tensorflow').setLevel(logging.ERROR)  # suppress warnings"
      ],
      "execution_count": null,
      "outputs": []
    },
    {
      "cell_type": "code",
      "metadata": {
        "id": "ZT4GDx-DExfv"
      },
      "source": [
        "path = '/content/drive/MyDrive/maestro-v3.0.0-midi/maestro-v3.0.0/2018'\n",
        "\n",
        "os.chdir(path)\n",
        "midi_paths = []\n",
        "for fn in os.listdir():\n",
        "  midi_paths.append(path+'/'+fn)\n",
        "\n",
        "os.chdir('/content')"
      ],
      "execution_count": null,
      "outputs": []
    },
    {
      "cell_type": "code",
      "metadata": {
        "id": "8d9d9EM-JKYz"
      },
      "source": [
        "new_dir = '/content/drive/MyDrive/maestro_midi_images/'"
      ],
      "execution_count": null,
      "outputs": []
    },
    {
      "cell_type": "code",
      "metadata": {
        "id": "tSc4-Gb613z3"
      },
      "source": [
        "FS = 10\n",
        "midi_dims = 127\n",
        "seq_len = 250"
      ],
      "execution_count": null,
      "outputs": []
    },
    {
      "cell_type": "code",
      "metadata": {
        "id": "5GNaIseQUajT"
      },
      "source": [
        "def midi2proll(filename):\n",
        "  midi_pretty_format = pretty_midi.PrettyMIDI(filename)\n",
        "  midi_piano = midi_pretty_format.instruments[0]\n",
        "  midi_piano_roll = midi_piano.get_piano_roll(fs=FS)\n",
        "  return midi_piano_roll # returns piano roll in format (128 notes, time)\n",
        "\n",
        "def proll2midi(proll):\n",
        "  notes, frames = proll.shape\n",
        "  pm = pretty_midi.PrettyMIDI()\n",
        "  instrument = pretty_midi.Instrument(program=0)\n",
        "\n",
        "  proll = np.pad(proll, [(0, 0), (1, 1)], 'constant')\n",
        "  velocity_changes = np.nonzero(np.diff(proll).T)\n",
        "\n",
        "  prev_velocities = np.zeros(notes, dtype=int)\n",
        "  note_on_time = np.zeros(notes)\n",
        "\n",
        "  for time, note in zip(*velocity_changes):\n",
        "      velocity = proll[note, time + 1]\n",
        "      time = time / FS\n",
        "      if velocity > 0:\n",
        "          if prev_velocities[note] == 0:\n",
        "              note_on_time[note] = time\n",
        "              prev_velocities[note] = velocity\n",
        "      else:\n",
        "          pm_note = pretty_midi.Note(\n",
        "              velocity=prev_velocities[note],\n",
        "              pitch=note,\n",
        "              start=note_on_time[note],\n",
        "              end=time)\n",
        "          instrument.notes.append(pm_note)\n",
        "          prev_velocities[note] = 0\n",
        "  pm.instruments.append(instrument)\n",
        "  return pm\n",
        "\n",
        "def proll2img(proll, show=False):\n",
        "  im = Image.fromarray(np.uint8(proll))\n",
        "  if show:\n",
        "    plt.imshow(np.asarray(im), aspect='auto', cmap='gray')\n",
        "  return im\n",
        "\n",
        "def proll2notelist(proll):\n",
        "  pnotelist = []\n",
        "  for t, tarr in enumerate(np.transpose(proll)):\n",
        "    pnotelist.append([])\n",
        "    for n, val in enumerate(tarr):\n",
        "      if(val > 0):\n",
        "        pnotelist[t].append(str(n))          \n",
        "  return pnotelist\n",
        "\n",
        "def pnotelist2proll(pnotelist):\n",
        "  proll = np.zeros((midi_dims, len(pnotelist)))\n",
        "  for t, notes in enumerate(pnotelist):\n",
        "    for n in notes:\n",
        "      proll[n][t] = 1\n",
        "  return proll"
      ],
      "execution_count": null,
      "outputs": []
    },
    {
      "cell_type": "code",
      "metadata": {
        "id": "D0lvlECwu7JQ"
      },
      "source": [
        "def transform_pnotelist(pnotelist):\n",
        "  transformed_pnotelist = []\n",
        "  for notes in pnotelist:\n",
        "    transformed_pnotelist.append(','.join(notes))\n",
        "  return np.asarray(transformed_pnotelist)\n",
        "\n",
        "def untransform_pnotelist(pnotelist):\n",
        "  untransformed_pnotelist = []\n",
        "  for t in pnotelist:\n",
        "    notes = t.split(',')\n",
        "    tmp = []\n",
        "    for n in notes:\n",
        "      if n is not '':\n",
        "        tmp.append(int(n))\n",
        "    untransformed_pnotelist.append(tmp)\n",
        "  return untransformed_pnotelist\n",
        "\n",
        "def get_musical_corpus(filepaths, show_progress=True):\n",
        "  all_seq = []\n",
        "  iter = enumerate(filepaths)\n",
        "  if(show_progress):\n",
        "    iter = tqdm(enumerate(filepaths), total=len(filepaths))\n",
        "  for i, fp in iter:\n",
        "    all_seq.append(transform_pnotelist(proll2notelist(midi2proll(fp))))\n",
        "  all_seq = np.asarray(all_seq)\n",
        "  return all_seq\n",
        "\n",
        "def transform_musical_corpus(musical_corpus):\n",
        "  data_in = []\n",
        "  data_out = []\n",
        "  for i in range(0, len(musical_corpus) - seq_len, 1):\n",
        "    sequence_in = musical_corpus[i:i + seq_len]\n",
        "    sequence_out = musical_corpus[i + seq_len]\n",
        "    data_in.append(sequence_in)\n",
        "    data_out.append(sequence_out)\n",
        "  return (np.asarray(data_in), np.asarray(data_out))\n",
        "\n",
        "def pad_array(arr, target_length):\n",
        "  if target_length < np.shape(arr)[0]:\n",
        "    return arr[:target_length]\n",
        "  padding = np.full((target_length - np.shape(arr)[0],), '')\n",
        "  return np.concatenate([arr, padding])"
      ],
      "execution_count": null,
      "outputs": []
    },
    {
      "cell_type": "code",
      "metadata": {
        "colab": {
          "base_uri": "https://localhost:8080/",
          "height": 138,
          "referenced_widgets": [
            "b915c3cd7dd347209deffabadd2e849b",
            "ea0d1ca166c04aa7876d021ca3d22bb0",
            "7da9ac7b704e4c81999b0599679f13cd",
            "47b264bcc2964b30a34076e9a4fffacb",
            "71638a39fd8042eeaf433feede1dd4bd",
            "b863554bf08440ddb1b6d1b3c075a6a3",
            "b026e6f254084630a294276ed2718772",
            "425d9e9acd584c29ac8254605b484bfd",
            "8ec99a88a62c45bc88a4d46f908c9a37",
            "4a6557bf0f3e4ed5a4b6b1c2af0b4332",
            "b09b927eda2b4b2483790bdd2ae5eede"
          ]
        },
        "id": "gUW94ud6AhfH",
        "outputId": "4381d0e3-fc26-4d66-bdf3-8744d7665509"
      },
      "source": [
        "vocab_instances = 8\n",
        "\n",
        "# first 8 to retrieve vocabulary\n",
        "musical_corpus = np.concatenate(get_musical_corpus(midi_paths[:vocab_instances]))\n",
        "\n",
        "FINAL_VOCAB_SIZE = 50000\n",
        "\n",
        "vocab_size = np.shape(np.unique(musical_corpus))[0]\n",
        "print('Base Vocab Size', vocab_size)\n",
        "\n",
        "vec = layers.TextVectorization(max_tokens=FINAL_VOCAB_SIZE + 1, standardize=None, split=None)\n",
        "vec.adapt(musical_corpus)\n",
        "vocabulary = vec.get_vocabulary()\n",
        "vocabulary.remove('[UNK]')\n",
        "vocab_size = len(vocabulary)\n",
        "\n",
        "print('Final Vocab Size', len(vocabulary))"
      ],
      "execution_count": null,
      "outputs": [
        {
          "output_type": "display_data",
          "data": {
            "application/vnd.jupyter.widget-view+json": {
              "model_id": "b915c3cd7dd347209deffabadd2e849b",
              "version_minor": 0,
              "version_major": 2
            },
            "text/plain": [
              "  0%|          | 0/8 [00:00<?, ?it/s]"
            ]
          },
          "metadata": {}
        },
        {
          "output_type": "stream",
          "name": "stderr",
          "text": [
            "/usr/local/lib/python3.7/dist-packages/numpy/core/_asarray.py:83: VisibleDeprecationWarning: Creating an ndarray from ragged nested sequences (which is a list-or-tuple of lists-or-tuples-or ndarrays with different lengths or shapes) is deprecated. If you meant to do this, you must specify 'dtype=object' when creating the ndarray\n",
            "  return array(a, dtype, copy=False, order=order)\n"
          ]
        },
        {
          "output_type": "stream",
          "name": "stdout",
          "text": [
            "Base Vocab Size 15688\n",
            "Final Vocab Size 15688\n"
          ]
        }
      ]
    },
    {
      "cell_type": "code",
      "metadata": {
        "id": "ojPEfjhqrgd7"
      },
      "source": [
        "ids_from_chars = tf.keras.layers.experimental.preprocessing.StringLookup(vocabulary=vocabulary, mask_token=None)\n",
        "chars_from_ids = tf.keras.layers.experimental.preprocessing.StringLookup(vocabulary=ids_from_chars.get_vocabulary(), invert=True, mask_token=None)"
      ],
      "execution_count": null,
      "outputs": []
    },
    {
      "cell_type": "code",
      "metadata": {
        "id": "tdD__L3UtgoV"
      },
      "source": [
        "def efficient_get_data_vec(start, end=None):\n",
        "  if end is None:\n",
        "    end = start\n",
        "    start = 0\n",
        "  musical_corpus = np.concatenate(get_musical_corpus([midi_paths[start]], show_progress=False))\n",
        "  data_in, data_out = transform_musical_corpus(musical_corpus)\n",
        "  data_in_vectorized = ids_from_chars(data_in)\n",
        "  data_out_vectorized = ids_from_chars(data_out)\n",
        "  del data_in, data_out\n",
        "  for i in tqdm(range(start+1, end), total=end-start-1):\n",
        "    musical_corpus = np.concatenate(get_musical_corpus([midi_paths[i]], show_progress=False))\n",
        "    data_in, data_out = transform_musical_corpus(musical_corpus)\n",
        "    data_in_vectorized = tf.concat([data_in_vectorized, ids_from_chars(data_in)], axis=0)\n",
        "    data_out_vectorized = tf.concat([data_out_vectorized, ids_from_chars(data_out)], axis=0)\n",
        "  del data_in, data_out, musical_corpus\n",
        "  return (data_in_vectorized, data_out_vectorized)"
      ],
      "execution_count": null,
      "outputs": []
    },
    {
      "cell_type": "code",
      "metadata": {
        "id": "U3C7GNehQL9S",
        "colab": {
          "base_uri": "https://localhost:8080/",
          "height": 49,
          "referenced_widgets": [
            "3d4308ee55ae445e85b1b9739da2828b",
            "198b77f487fc47909e25a647399ebbfe",
            "13a6372bc4ac44aba483fba6eb4683b3",
            "b5da942a68494594b332df31acf0b525",
            "63ca0eb47e1c4d87a48d18908d82dfad",
            "c3b339826b1a48f7a40fd0d876a9d3c6",
            "a55ccf2ed7f94cb49cdb62fead934ed8",
            "748bb9dbaef94895bd3cb34eddf562b7",
            "b0af5da4e656453a82d1c608c51c0716",
            "5302a521ce2f4c1a8fa89d4ffa816578",
            "ae63a83d2afd426292601dbf140da4e2"
          ]
        },
        "outputId": "ad6827d0-5ce8-4ff1-e718-e77575c842d0"
      },
      "source": [
        "# ran 20 epochs with first 8, now running 10 epochs with first 16\n",
        "data_vectorized = efficient_get_data_vec(16)"
      ],
      "execution_count": null,
      "outputs": [
        {
          "output_type": "display_data",
          "data": {
            "application/vnd.jupyter.widget-view+json": {
              "model_id": "3d4308ee55ae445e85b1b9739da2828b",
              "version_minor": 0,
              "version_major": 2
            },
            "text/plain": [
              "  0%|          | 0/15 [00:00<?, ?it/s]"
            ]
          },
          "metadata": {}
        }
      ]
    },
    {
      "cell_type": "code",
      "metadata": {
        "colab": {
          "base_uri": "https://localhost:8080/",
          "height": 49,
          "referenced_widgets": [
            "f19d208607fe437e9f4cd959406b41c3",
            "2ef99e57ff614bd8bec0f374d69ca4d2",
            "c014fd87c1314e9190721e65ed0d2dbe",
            "79a9447166564686aaeae052babc3516",
            "c03c291ce8d14224badf3abdfddf30b3",
            "97fc2eee02b14597af3766b65a8f3074",
            "6519fa48a9a94c04b25b334f08f595cd",
            "d6103a6e020444028c7dcf00bca85cbb",
            "1aa7ca9ba5be497ea4082f7a4b002cf3",
            "5d99a95a121e464db1bcd37547cf9e82",
            "0bc92cb7616646f59b84d3a5e349f84d"
          ]
        },
        "id": "pqqc8HMYxeG8",
        "outputId": "0e86fdbb-0427-4f33-81cc-2ed7239eb861"
      },
      "source": [
        "data_test_vectorized = efficient_get_data_vec(24, 26)"
      ],
      "execution_count": null,
      "outputs": [
        {
          "output_type": "display_data",
          "data": {
            "application/vnd.jupyter.widget-view+json": {
              "model_id": "f19d208607fe437e9f4cd959406b41c3",
              "version_minor": 0,
              "version_major": 2
            },
            "text/plain": [
              "  0%|          | 0/1 [00:00<?, ?it/s]"
            ]
          },
          "metadata": {}
        }
      ]
    },
    {
      "cell_type": "code",
      "metadata": {
        "colab": {
          "base_uri": "https://localhost:8080/"
        },
        "id": "C-Y5ujtS_c6o",
        "outputId": "a03439c6-ab78-4922-9f15-de8bae170257"
      },
      "source": [
        "TRAIN_TOTAL_SIZE = len(data_vectorized[0])\n",
        "TEST_TOTAL_SIZE = len(data_test_vectorized[0])\n",
        "BATCH_SIZE = 128\n",
        "N_TRAIN_BATCHES = int(TRAIN_TOTAL_SIZE/BATCH_SIZE)\n",
        "N_TEST_BATCHES = int(TEST_TOTAL_SIZE/BATCH_SIZE)\n",
        "\n",
        "print(TRAIN_TOTAL_SIZE)\n",
        "print(TEST_TOTAL_SIZE)"
      ],
      "execution_count": null,
      "outputs": [
        {
          "output_type": "stream",
          "name": "stdout",
          "text": [
            "158462\n",
            "18628\n"
          ]
        }
      ]
    },
    {
      "cell_type": "code",
      "metadata": {
        "id": "LFn4Ea9wRreM",
        "colab": {
          "base_uri": "https://localhost:8080/"
        },
        "outputId": "76975941-1282-4b4e-9b02-ed4a51323350"
      },
      "source": [
        "np.sum(np.equal(data_test_vectorized[1], 0))"
      ],
      "execution_count": null,
      "outputs": [
        {
          "output_type": "execute_result",
          "data": {
            "text/plain": [
              "9853"
            ]
          },
          "metadata": {},
          "execution_count": 17
        }
      ]
    },
    {
      "cell_type": "code",
      "metadata": {
        "id": "2VwLuTz3_98S"
      },
      "source": [
        "train_dataset = (\n",
        "    tf.data.Dataset.from_tensor_slices(data_vectorized)\n",
        "    .cache()\n",
        "    .shuffle(10000)\n",
        "    .batch(BATCH_SIZE, drop_remainder=True)\n",
        "    .prefetch(tf.data.AUTOTUNE)\n",
        ")\n",
        "\n",
        "test_dataset = (\n",
        "    tf.data.Dataset.from_tensor_slices(data_test_vectorized)\n",
        "    .cache()\n",
        "    .shuffle(10000)\n",
        "    .batch(BATCH_SIZE, drop_remainder=True)\n",
        "    .prefetch(tf.data.AUTOTUNE)\n",
        ")"
      ],
      "execution_count": null,
      "outputs": []
    },
    {
      "cell_type": "code",
      "metadata": {
        "colab": {
          "base_uri": "https://localhost:8080/"
        },
        "id": "13cSkQBJ56L1",
        "outputId": "f22a579d-2330-437f-d155-3fe7edf39950"
      },
      "source": [
        "print(train_dataset)\n",
        "print(test_dataset)"
      ],
      "execution_count": null,
      "outputs": [
        {
          "output_type": "stream",
          "name": "stdout",
          "text": [
            "<PrefetchDataset shapes: ((128, 250), (128,)), types: (tf.int64, tf.int64)>\n",
            "<PrefetchDataset shapes: ((128, 250), (128,)), types: (tf.int64, tf.int64)>\n"
          ]
        }
      ]
    },
    {
      "cell_type": "code",
      "metadata": {
        "id": "JnRVKi7HT6vU"
      },
      "source": [
        "# del data_in, data_out, data_in_vectorized, data_out_vectorized, data_vectorized, train_dataset"
      ],
      "execution_count": null,
      "outputs": []
    },
    {
      "cell_type": "markdown",
      "metadata": {
        "id": "rA6ExT4j4xsB"
      },
      "source": [
        "# Model"
      ]
    },
    {
      "cell_type": "code",
      "metadata": {
        "id": "KLADYmAS6GJx"
      },
      "source": [
        "vocab_size = len(ids_from_chars.get_vocabulary())\n",
        "rnn_units = 512\n",
        "e_dim = 128\n",
        "dff = 256\n",
        "dropout_prop = 0.3\n",
        "input_shape = (seq_len,)"
      ],
      "execution_count": null,
      "outputs": []
    },
    {
      "cell_type": "code",
      "metadata": {
        "id": "52JzY4-asqfr"
      },
      "source": [
        "def MusicGenerator(vocab_size, e_dim, rnn_units, dff, dropout_prop):\n",
        "  model = tf.keras.Sequential()\n",
        "  model.add(layers.Embedding(vocab_size, e_dim, input_shape=input_shape))\n",
        "  model.add(layers.GRU(rnn_units, return_sequences=True))\n",
        "  model.add(layers.Dropout(dropout_prop))\n",
        "  model.add(layers.GRU(rnn_units, return_sequences=True))\n",
        "  model.add(layers.Dropout(dropout_prop))\n",
        "  model.add(layers.GRU(rnn_units))\n",
        "  model.add(layers.Dense(dff))\n",
        "  model.add(layers.Dropout(dropout_prop))\n",
        "  model.add(layers.Dense(vocab_size))\n",
        "  model.add(layers.Activation('softmax'))\n",
        "  return model"
      ],
      "execution_count": null,
      "outputs": []
    },
    {
      "cell_type": "code",
      "metadata": {
        "id": "SQ9ixJfcyrQs"
      },
      "source": [
        "model = MusicGenerator(\n",
        "    vocab_size=vocab_size,\n",
        "    e_dim=e_dim,\n",
        "    rnn_units=rnn_units,\n",
        "    dff=dff,\n",
        "    dropout_prop=dropout_prop)"
      ],
      "execution_count": null,
      "outputs": []
    },
    {
      "cell_type": "code",
      "metadata": {
        "colab": {
          "base_uri": "https://localhost:8080/"
        },
        "id": "oIADrmZ340er",
        "outputId": "94e7472b-1e49-417e-a327-8bc54041ec9f"
      },
      "source": [
        "model.build()\n",
        "model.summary()"
      ],
      "execution_count": null,
      "outputs": [
        {
          "output_type": "stream",
          "name": "stdout",
          "text": [
            "Model: \"sequential\"\n",
            "_________________________________________________________________\n",
            " Layer (type)                Output Shape              Param #   \n",
            "=================================================================\n",
            " embedding (Embedding)       (None, 250, 128)          2008192   \n",
            "                                                                 \n",
            " gru (GRU)                   (None, 250, 512)          986112    \n",
            "                                                                 \n",
            " dropout (Dropout)           (None, 250, 512)          0         \n",
            "                                                                 \n",
            " gru_1 (GRU)                 (None, 250, 512)          1575936   \n",
            "                                                                 \n",
            " dropout_1 (Dropout)         (None, 250, 512)          0         \n",
            "                                                                 \n",
            " gru_2 (GRU)                 (None, 512)               1575936   \n",
            "                                                                 \n",
            " dense (Dense)               (None, 256)               131328    \n",
            "                                                                 \n",
            " dropout_2 (Dropout)         (None, 256)               0         \n",
            "                                                                 \n",
            " dense_1 (Dense)             (None, 15689)             4032073   \n",
            "                                                                 \n",
            " activation (Activation)     (None, 15689)             0         \n",
            "                                                                 \n",
            "=================================================================\n",
            "Total params: 10,309,577\n",
            "Trainable params: 10,309,577\n",
            "Non-trainable params: 0\n",
            "_________________________________________________________________\n"
          ]
        }
      ]
    },
    {
      "cell_type": "code",
      "metadata": {
        "id": "P8yEsbvhHLCV",
        "colab": {
          "base_uri": "https://localhost:8080/"
        },
        "outputId": "a4187842-de43-47ce-baef-441ccd3a0ec5"
      },
      "source": [
        "model.load_weights(\"/content/drive/MyDrive/rnn-music-midis/layered-grus-models/models_20_epochs\")"
      ],
      "execution_count": null,
      "outputs": [
        {
          "output_type": "execute_result",
          "data": {
            "text/plain": [
              "<tensorflow.python.training.tracking.util.CheckpointLoadStatus at 0x7fc8a4509fd0>"
            ]
          },
          "metadata": {},
          "execution_count": 24
        }
      ]
    },
    {
      "cell_type": "code",
      "metadata": {
        "id": "1vO5LEvE5Yk6"
      },
      "source": [
        "model.compile(optimizer=tf.keras.optimizers.Adam(0.0008), loss=tf.losses.SparseCategoricalCrossentropy(), metrics=[tf.metrics.SparseCategoricalAccuracy()])"
      ],
      "execution_count": null,
      "outputs": []
    },
    {
      "cell_type": "markdown",
      "metadata": {
        "id": "5dW-A7A85UOa"
      },
      "source": [
        "# Train Model"
      ]
    },
    {
      "cell_type": "markdown",
      "metadata": {
        "id": "vjUHSpQ_7eMJ"
      },
      "source": [
        "**Setup Checkpoints**"
      ]
    },
    {
      "cell_type": "code",
      "metadata": {
        "id": "ojpopASYqvAy",
        "colab": {
          "base_uri": "https://localhost:8080/"
        },
        "outputId": "7c13b09e-5a95-4c98-e369-9e76513dcba6"
      },
      "source": [
        "!pwd"
      ],
      "execution_count": null,
      "outputs": [
        {
          "output_type": "stream",
          "text": [
            "/content\n"
          ],
          "name": "stdout"
        }
      ]
    },
    {
      "cell_type": "code",
      "metadata": {
        "id": "TdmMr1YK7xId"
      },
      "source": [
        "checkpoint_path = \"/content/drive/MyDrive/rnn-music-midis/models/modelcp_tmp.ckpt\"\n",
        "checkpoint_dir = os.path.dirname(checkpoint_path)\n",
        "\n",
        "checkpoint_callback = tf.keras.callbacks.ModelCheckpoint(\n",
        "    filepath=checkpoint_path,\n",
        "    save_weights_only=True)"
      ],
      "execution_count": null,
      "outputs": []
    },
    {
      "cell_type": "markdown",
      "metadata": {
        "id": "bnUXtJLIAgrB"
      },
      "source": [
        "**Fit Model**"
      ]
    },
    {
      "cell_type": "markdown",
      "metadata": {
        "id": "CaS1sFBl_hYU"
      },
      "source": [
        "Might need to reduce vocabulary size as the number of parameters is enormous."
      ]
    },
    {
      "cell_type": "code",
      "metadata": {
        "id": "ueh-Mzy8AJCz"
      },
      "source": [
        "EPOCHS = 5"
      ],
      "execution_count": null,
      "outputs": []
    },
    {
      "cell_type": "code",
      "metadata": {
        "id": "6q55UFq47x6J",
        "colab": {
          "base_uri": "https://localhost:8080/"
        },
        "outputId": "23c68040-beb9-47d5-eaf5-6a40e646a645"
      },
      "source": [
        "# history = model.fit(train_dataset, epochs=EPOCHS, callbacks=[checkpoint_callback], validation_data=test_dataset)"
      ],
      "execution_count": null,
      "outputs": [
        {
          "output_type": "stream",
          "text": [
            "Epoch 1/5\n",
            "1237/1237 [==============================] - 830s 668ms/step - loss: 1.8010 - sparse_categorical_accuracy: 0.7034 - val_loss: 3.5247 - val_sparse_categorical_accuracy: 0.5742\n",
            "Epoch 2/5\n",
            "1237/1237 [==============================] - 825s 667ms/step - loss: 1.7032 - sparse_categorical_accuracy: 0.6913 - val_loss: 3.4923 - val_sparse_categorical_accuracy: 0.5719\n",
            "Epoch 3/5\n",
            "1237/1237 [==============================] - 822s 664ms/step - loss: 1.5907 - sparse_categorical_accuracy: 0.6997 - val_loss: 3.7960 - val_sparse_categorical_accuracy: 0.5713\n",
            "Epoch 4/5\n",
            "1237/1237 [==============================] - 821s 664ms/step - loss: 1.5162 - sparse_categorical_accuracy: 0.7068 - val_loss: 3.6629 - val_sparse_categorical_accuracy: 0.5720\n",
            "Epoch 5/5\n",
            "1237/1237 [==============================] - 823s 665ms/step - loss: 1.4615 - sparse_categorical_accuracy: 0.7128 - val_loss: 3.7811 - val_sparse_categorical_accuracy: 0.5736\n"
          ],
          "name": "stdout"
        }
      ]
    },
    {
      "cell_type": "code",
      "source": [
        "model.evaluate(test_dataset)"
      ],
      "metadata": {
        "colab": {
          "base_uri": "https://localhost:8080/"
        },
        "id": "BlE8ATngdRJC",
        "outputId": "84f22038-43a6-463b-e62b-61c2daa05575"
      },
      "execution_count": null,
      "outputs": [
        {
          "output_type": "stream",
          "name": "stdout",
          "text": [
            "145/145 [==============================] - 15s 104ms/step - loss: 12.8996 - sparse_categorical_accuracy: 0.0501\n"
          ]
        },
        {
          "output_type": "execute_result",
          "data": {
            "text/plain": [
              "[12.899648666381836, 0.050053879618644714]"
            ]
          },
          "metadata": {},
          "execution_count": 36
        }
      ]
    },
    {
      "cell_type": "markdown",
      "metadata": {
        "id": "PTPgJp5SBFPg"
      },
      "source": [
        "# Generate Text"
      ]
    },
    {
      "cell_type": "markdown",
      "metadata": {
        "id": "tPCGWdpzDLfX"
      },
      "source": [
        "**Parameters**"
      ]
    },
    {
      "cell_type": "code",
      "metadata": {
        "id": "-vWiuW7W5mA8",
        "colab": {
          "base_uri": "https://localhost:8080/",
          "height": 49,
          "referenced_widgets": [
            "7151e40dcdde4ef3aa8eb857d41d1b81",
            "825288565a514c598a65847b3e1e417a",
            "451a34fb71c14e35bb9993f4aaa42187",
            "5f25a4a3e1234619a166946a7dff05da",
            "c5b89fa22e2a471a9b81e66397df4216",
            "6c1ebe04ab0a4e4989f666af4683baf5",
            "cea8bcefabe3492d8a82872da3032f3e",
            "f204143f8a8a45609a343333e11b5d07",
            "53ac0d0ef3034bbaad94b6a24b1bf7b9",
            "5f66945adabb4db497ccbd36ac4239ce",
            "f5d33144a96848d59f8115e5749ebd5a"
          ]
        },
        "outputId": "51c5c705-adaf-40e9-c453-c46174e92590"
      },
      "source": [
        "temperature = 0.005\n",
        "\n",
        "start = np.random.randint(0, len(data_vectorized[0]))\n",
        "pattern = list(data_vectorized[0][start].numpy())\n",
        "prediction_output = []\n",
        "\n",
        "for note_index in tqdm(range(250)):\n",
        "  prediction_input = np.reshape(pattern, (1, len(pattern), 1))\n",
        "  prediction = model.predict(prediction_input, verbose=0)\n",
        "  \n",
        "  prediction[0][0] = 0 # set 'UNK' probability to 0\n",
        "  # prediction[0][1] = 0 # set '' probability to 0\n",
        "  prediction = prediction / temperature\n",
        "  \n",
        "  # index = tf.random.categorical(prediction, 1).numpy()[0][0]\n",
        "  index = np.argmax(prediction)\n",
        "  \n",
        "  result = chars_from_ids(int(index)).numpy().decode('utf-8')\n",
        "  prediction_output.append(result)\n",
        "  pattern.append(index)\n",
        "  pattern = pattern[1:len(pattern)]"
      ],
      "execution_count": null,
      "outputs": [
        {
          "output_type": "display_data",
          "data": {
            "application/vnd.jupyter.widget-view+json": {
              "model_id": "7151e40dcdde4ef3aa8eb857d41d1b81",
              "version_minor": 0,
              "version_major": 2
            },
            "text/plain": [
              "  0%|          | 0/250 [00:00<?, ?it/s]"
            ]
          },
          "metadata": {}
        }
      ]
    },
    {
      "cell_type": "code",
      "metadata": {
        "id": "5mmb41-d9bZg",
        "colab": {
          "base_uri": "https://localhost:8080/",
          "height": 268
        },
        "outputId": "3022eaa6-b0f4-4301-fa57-fd3594f8965a"
      },
      "source": [
        "proll = pnotelist2proll(untransform_pnotelist(prediction_output)) * 64\n",
        "img = proll2img(proll, show=True)"
      ],
      "execution_count": null,
      "outputs": [
        {
          "output_type": "display_data",
          "data": {
            "image/png": "[encoded data removed]",
            "text/plain": [
              "<Figure size 432x288 with 1 Axes>"
            ]
          },
          "metadata": {
            "needs_background": "light"
          }
        }
      ]
    },
    {
      "cell_type": "code",
      "metadata": {
        "id": "QY9W1Q4G76E8"
      },
      "source": [
        "target_dir = '/content/drive/MyDrive/rnn-music-midis/'"
      ],
      "execution_count": null,
      "outputs": []
    },
    {
      "cell_type": "code",
      "metadata": {
        "id": "vyZ7iSt77zIW"
      },
      "source": [
        "proll2midi(proll).write(target_dir + str(len(os.listdir(target_dir))) + '.mid')"
      ],
      "execution_count": null,
      "outputs": []
    },
    {
      "cell_type": "code",
      "metadata": {
        "id": "cAJwUpZnqGB0"
      },
      "source": [
        "model.save_weights(\"/content/drive/MyDrive/rnn-music-midis/layered-grus-models/models_30_epochs\")"
      ],
      "execution_count": null,
      "outputs": []
    }
  ]
}